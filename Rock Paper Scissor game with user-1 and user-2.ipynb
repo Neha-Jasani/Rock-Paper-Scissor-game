{
 "cells": [
  {
   "cell_type": "code",
   "execution_count": null,
   "id": "614e8d52",
   "metadata": {},
   "outputs": [
    {
     "name": "stdout",
     "output_type": "stream",
     "text": [
      "Rules ::: Rock vs paper-> paper wins \n",
      "\t Rock vs scissor-> Rock wins \n",
      "\t paper vs scissor-> scissor wins\n",
      "Enter the choice : \n",
      " 1. Rock \n",
      " 2. Paper \n",
      " 3.Scissor\n"
     ]
    }
   ],
   "source": [
    "while True:\n",
    "    print('Rules ::: Rock vs paper-> paper wins \\n\\t Rock vs scissor-> Rock wins \\n\\t paper vs scissor-> scissor wins')\n",
    "    print('Enter the choice : \\n 1. Rock \\n 2. Paper \\n 3.Scissor')\n",
    "    \n",
    "    choice_user_1 = int(input(\"Enter the choice (user-1) :\"))\n",
    "    \n",
    "    while choice_user_1>3 or choice_user_1<1:\n",
    "        choice_user_1 = int(input(\"enter valid input: \"))    \n",
    "    if choice_user_1 == 1:\n",
    "        ch_name_1 = 'Rock'\n",
    "    elif choice_user_1 == 2:\n",
    "        ch_name_1 = 'Paper'\n",
    "    else:\n",
    "        ch_name_1 = 'Scissor'\n",
    "        \n",
    "    print('User-1 choice is :' + ch_name_1)\n",
    "    \n",
    "    choice_user_2 = int(input(\"\\n Enter the choice (user-2) :\"))\n",
    "    \n",
    "    while choice_user_2>3 or choice_user_2<1:\n",
    "        choice_user_2 = int(input(\"enter valid input: \"))\n",
    "    \n",
    "    if choice_user_2 == 1:\n",
    "        ch_name_2 = 'Rock'\n",
    "    elif choice_user_2 == 2:\n",
    "        ch_name_2 = 'Paper'\n",
    "    else:\n",
    "        ch_name_2 = 'Scissor'\n",
    "        \n",
    "    print('User-2 choice is :' + ch_name_2)\n",
    "    \n",
    "    if (choice_user_1 == 1 and choice_user_2 == 2) or (choice_user_1 == 2 and choice_user_2 == 1):\n",
    "        print('\\nPaper win \\n')\n",
    "        result = 'Paper'\n",
    "    elif (choice_user_1 == 1 and choice_user_2 == 3) or (choice_user_1 == 3 and choice_user_2 == 1):\n",
    "        print('Rock win \\n')\n",
    "        result = 'Rock'\n",
    "    else:\n",
    "        print('Scissor win \\n ')\n",
    "        result = 'Scissor'\n",
    "        \n",
    "    if result == ch_name_1:\n",
    "        print('----User-1 win----\\n')\n",
    "    else:\n",
    "        print('----User-2 win----\\n')\n",
    "    \n",
    "    print('Do you want to play again Y/N')\n",
    "    ans = input()\n",
    "    \n",
    "    if ans == 'N' or ans == 'n':\n",
    "        break"
   ]
  }
 ],
 "metadata": {
  "kernelspec": {
   "display_name": "Python 3",
   "language": "python",
   "name": "python3"
  },
  "language_info": {
   "codemirror_mode": {
    "name": "ipython",
    "version": 3
   },
   "file_extension": ".py",
   "mimetype": "text/x-python",
   "name": "python",
   "nbconvert_exporter": "python",
   "pygments_lexer": "ipython3",
   "version": "3.8.8"
  }
 },
 "nbformat": 4,
 "nbformat_minor": 5
}
