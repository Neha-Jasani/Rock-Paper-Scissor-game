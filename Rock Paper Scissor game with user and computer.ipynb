{
 "cells": [
  {
   "cell_type": "code",
   "execution_count": null,
   "id": "e137b681",
   "metadata": {},
   "outputs": [
    {
     "name": "stdout",
     "output_type": "stream",
     "text": [
      "Rules ::: Rock vs paper-> paper wins \n",
      "\t Rock vs scissor-> Rock wins \n",
      "\t paper vs scissor-> scissor wins\n",
      "Enter the choice : \n",
      " 1. Rock \n",
      " 2. Paper \n",
      " 3.Scissor\n"
     ]
    }
   ],
   "source": [
    "import random\n",
    "\n",
    "while True:\n",
    "    print('Rules ::: Rock vs paper-> paper wins \\n\\t Rock vs scissor-> Rock wins \\n\\t paper vs scissor-> scissor wins')\n",
    "    print('Enter the choice : \\n 1. Rock \\n 2. Paper \\n 3.Scissor')\n",
    "    \n",
    "    choice = int(input(\"Enter the choice (user) :\"))\n",
    "    \n",
    "    while choice>3 or choice<1:\n",
    "        print('Please enter valid input\\n')\n",
    "    \n",
    "    if choice == 1:\n",
    "        ch_name = 'Rock'\n",
    "    elif choice == 2:\n",
    "        ch_name = 'Paper'\n",
    "    else:\n",
    "        ch_name = 'Scissor'\n",
    "        \n",
    "    print('User choice is :' + ch_name)\n",
    "    \n",
    "    print('Now computer turn ==>')\n",
    "    \n",
    "    comp_ch = random.randint(1,3)\n",
    "    \n",
    "    while comp_ch == ch_name:\n",
    "        comp_ch = random.randint(1,3)\n",
    "        \n",
    "    if comp_ch == 1:\n",
    "        comp_name = 'Rock'\n",
    "    elif comp_ch == 2:\n",
    "        comp_name = 'Paper'\n",
    "    else:\n",
    "        comp_name = 'Scissor'\n",
    "    \n",
    "    print('Computer choice is :' + comp_name)\n",
    "    \n",
    "    if (choice == 1 and comp_ch == 2) or (choice == 2 and comp_ch == 2):\n",
    "        print('Paper win \\n')\n",
    "        result = 'Paper'\n",
    "    elif (choice == 1 and comp_ch == 3) or (choice == 3 and comp_ch == 1):\n",
    "        print('Rock win \\n')\n",
    "        result = 'Rock'\n",
    "    else:\n",
    "        print('Scissor win \\n ')\n",
    "        result = 'Scissor'\n",
    "        \n",
    "    if result == ch_name:\n",
    "        print('----User win----\\n')\n",
    "    else:\n",
    "        print('----Computer win----\\n')"
   ]
  },
  {
   "cell_type": "code",
   "execution_count": null,
   "id": "aebbeeed",
   "metadata": {},
   "outputs": [],
   "source": []
  },
  {
   "cell_type": "code",
   "execution_count": null,
   "id": "c447ce02",
   "metadata": {},
   "outputs": [],
   "source": []
  }
 ],
 "metadata": {
  "kernelspec": {
   "display_name": "Python 3",
   "language": "python",
   "name": "python3"
  },
  "language_info": {
   "codemirror_mode": {
    "name": "ipython",
    "version": 3
   },
   "file_extension": ".py",
   "mimetype": "text/x-python",
   "name": "python",
   "nbconvert_exporter": "python",
   "pygments_lexer": "ipython3",
   "version": "3.8.8"
  }
 },
 "nbformat": 4,
 "nbformat_minor": 5
}
